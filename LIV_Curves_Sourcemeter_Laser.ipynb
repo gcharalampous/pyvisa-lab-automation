{
 "cells": [
  {
   "cell_type": "markdown",
   "id": "68cd0de2",
   "metadata": {},
   "source": [
    "# LIV Curves Analysis\n",
    "This notebook demonstrates how to load, process, and analyze IV (Current–Voltage) and LIV (Light–Current–Voltage) curves for photonic devices.\n",
    "It guides you through instrument setup, configuration loading, measurement execution, data visualization, and saving results for further analysis.\n",
    "\n",
    "---"
   ]
  },
  {
   "cell_type": "markdown",
   "id": "6ab2aed1",
   "metadata": {},
   "source": [
    "## Step 1 – Import Libraries\n",
    "Begin by importing the Python libraries required for instrument control, data analysis, and plotting."
   ]
  },
  {
   "cell_type": "code",
   "execution_count": null,
   "id": "01ee7cda",
   "metadata": {},
   "outputs": [],
   "source": [
    "import pyvisa as visa\n",
    "from instruments.agilent8163 import Agilent8163Multimeter\n",
    "from instruments.keithley2400 import Keithley2400SourceMeter\n",
    "from controllers.laser_sweep import *\n",
    "from controllers.sourcemeter_sweep import measure_iv_curve, measure_laser_liv_curve_by_source_current\n",
    "from utils.load_config import load_config\n",
    "from utils.plotter import plot_measurements\n",
    "from utils.data_saver import save_raw_measurements"
   ]
  },
  {
   "cell_type": "code",
   "execution_count": null,
   "id": "9b86f1a2",
   "metadata": {},
   "outputs": [],
   "source": [
    "from utils.visa_utils import list_visa_resources\n",
    "\n",
    "# List all VISA resources\n",
    "list_visa_resources()"
   ]
  },
  {
   "cell_type": "markdown",
   "id": "96c6a2d5",
   "metadata": {},
   "source": [
    "## Step 2 – Load Instrument Configuration\n",
    "Load the instrument configuration from a YAML file. This ensures the sweep runs with correct parameters and safety limits for each device."
   ]
  },
  {
   "cell_type": "code",
   "execution_count": null,
   "id": "9bfa8a80",
   "metadata": {},
   "outputs": [],
   "source": [
    "# They are connected on the same GPIB bus, so we need to pass the same resource manager to both instruments\n",
    "# If you are using multiple GPIB buses, then you need to create separate resource managers for each bus\n",
    "rm = visa.ResourceManager()\n",
    "\n",
    "# Generate the laser and keithley objects using the configuration\n",
    "config = load_config('configs/experiment_config.yaml')\n",
    "keithley_cfg = config[\"Keithley2400\"]                               # Extract Keithley instrument configuration\n",
    "laser_cfg = config[\"Agilent8163Multimeter\"]                         # Extract laser-specific configuration\n",
    "\n",
    "\n",
    "keithley_obj = Keithley2400SourceMeter(address=keithley_cfg['address'], resource_manager=rm)\n",
    "# Generate the laser and keithley objects using the configuration\n",
    "laser_obj = Agilent8163Multimeter(\n",
    "    address=laser_cfg['address'],\n",
    "    laser_slot=laser_cfg['laser_slot'],\n",
    "    power_slot= laser_cfg['power_slot'],\n",
    "    power_channel=laser_cfg['power_channel'],\n",
    "    resource_manager=rm\n",
    ")\n",
    "\n",
    "\n",
    "\n",
    "\n",
    "combined_name = f\"{config['DUT']['type']}_{config['DUT']['name']}\"  # Combined name for saving data"
   ]
  },
  {
   "cell_type": "markdown",
   "id": "a2c1aa9e",
   "metadata": {},
   "source": [
    "## Step 3 – Define Sweep Parameters and Execute Measurement\n",
    "Set up the sweep parameters for the LIV measurement and run the experiment to collect data from the instruments."
   ]
  },
  {
   "cell_type": "code",
   "execution_count": null,
   "id": "61469b65",
   "metadata": {},
   "outputs": [],
   "source": [
    "liv_params = {\n",
    "    \"sourcemeter\": keithley_obj,\n",
    "    \"powermeter\": laser_obj,\n",
    "    \"start_current\": float(keithley_cfg[\"start_current\"]),\n",
    "    \"stop_current\": float(keithley_cfg[\"stop_current\"]),\n",
    "    \"step_current\": float(keithley_cfg[\"step_current\"]),\n",
    "    \"measure_voltage_range\": keithley_cfg[\"measure_voltage_range\"],\n",
    "    \"voltage_limit\": keithley_cfg[\"compliance_voltage\"],\n",
    "    \"wire_mode\": keithley_cfg[\"wire_mode\"],\n",
    "    \"center_wavelength\": 1310e-9,\n",
    "    \"sourcemeter_delay\": keithley_cfg[\"delay\"],\n",
    "    \"powermeter_delay\": laser_cfg[\"delay\"],\n",
    "    \"logger\": None,\n",
    "}\n",
    "\n",
    "headers_liv_sweep, results_liv_sweep = measure_laser_liv_curve_by_source_current(**liv_params)"
   ]
  },
  {
   "cell_type": "markdown",
   "id": "60474ef1",
   "metadata": {},
   "source": [
    "## Step 4 – Plot Measured IV and LIV Curves\n",
    "Visualize the measured IV and LIV data to inspect device performance and identify key characteristics."
   ]
  },
  {
   "cell_type": "code",
   "execution_count": null,
   "id": "956ffc13",
   "metadata": {},
   "outputs": [],
   "source": [
    "# Plots the LIV Resukts\n",
    "# Trim headers (drop voltage)\n",
    "trimmed_headers = (headers_liv_sweep[1],headers_liv_sweep[2])  # -> (\"Voltage (V)\", \"Optical Power (dBm)\")\n",
    "# Trim data\n",
    "trimmed_results = [(c, l) for _, c, l in results_liv_sweep]  # -> List[Tuple[float, float]]\n",
    "\n",
    "plot_path = plot_measurements(\n",
    "    headers=trimmed_headers,\n",
    "    results=[res[:2] for res in trimmed_results],\n",
    "    figure_name=combined_name + \"_Sourcemeter_Sweep_LIV_results\", \n",
    "    show=True\n",
    ")"
   ]
  },
  {
   "cell_type": "code",
   "execution_count": null,
   "id": "b38943be",
   "metadata": {},
   "outputs": [],
   "source": [
    "# Save the laser sweep results to a CSV file\n",
    "data_path = save_raw_measurements(headers=headers_liv_sweep,\n",
    "                      data=results_liv_sweep,\n",
    "                      filename=combined_name + \"_Sourcemeter_Sweep_LIV_results\",\n",
    ")"
   ]
  },
  {
   "cell_type": "markdown",
   "id": "48aa6c9a",
   "metadata": {},
   "source": [
    "---\n",
    "# Conclusion\n",
    "\n",
    "This notebook walked through the complete workflow for IV and LIV curve measurement:\n",
    "- Loaded instrument configuration to set up a safe and reproducible measurement environment.\n",
    "- Defined sweep parameters and executed the measurement to capture IV and LIV data.\n",
    "- Plotted the measured curves for visual inspection and analysis.\n",
    "- Saved the data for further analysis, such as extracting device parameters or comparing different samples."
   ]
  }
 ],
 "metadata": {
  "kernelspec": {
   "display_name": "photonics-lab",
   "language": "python",
   "name": "python3"
  },
  "language_info": {
   "codemirror_mode": {
    "name": "ipython",
    "version": 3
   },
   "file_extension": ".py",
   "mimetype": "text/x-python",
   "name": "python",
   "nbconvert_exporter": "python",
   "pygments_lexer": "ipython3",
   "version": "3.11.11"
  }
 },
 "nbformat": 4,
 "nbformat_minor": 5
}
