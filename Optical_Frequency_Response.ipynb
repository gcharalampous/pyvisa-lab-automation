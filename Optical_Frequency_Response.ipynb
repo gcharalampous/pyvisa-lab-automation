{
 "cells": [
  {
   "cell_type": "markdown",
   "id": "59af632c",
   "metadata": {},
   "source": [
    "# Optical Frequency Response Measurement\n",
    "This notebook provides a step-by-step workflow for automating the measurement and analysis of optical frequency response in photonic experiments.\n",
    "It leverages PyVISA to control laboratory instruments, load experiment configurations, acquire measurement data, and visualize results.\n",
    "\n",
    "**Workflow Overview:**\n",
    "1. Import required libraries and initialize instruments.\n",
    "2. Load experiment configuration parameters.\n",
    "3. Perform automated laser and sourcemeter sweeps.\n",
    "4. Analyze and visualize measurement data.\n",
    "5. Save results for further analysis.\n",
    "\n",
    "---"
   ]
  },
  {
   "cell_type": "code",
   "execution_count": null,
   "id": "01423adb",
   "metadata": {},
   "outputs": [],
   "source": [
    "import pyvisa as visa\n",
    "from instruments.agilent8163 import Agilent8163Multimeter\n",
    "from instruments.keithley2400 import Keithley2400SourceMeter\n",
    "from controllers.laser_sweep import *\n",
    "from controllers.sourcemeter_sweep import measure_iv_curve, measure_liv_curve\n",
    "from utils.load_config import load_config\n",
    "from utils.plotter import plot_measurements\n",
    "from utils.data_saver import save_raw_measurements"
   ]
  },
  {
   "cell_type": "markdown",
   "id": "1a61d763",
   "metadata": {},
   "source": [
    "## VISA Resource Discovery\n",
    "This section lists all available VISA resources to ensure the required instruments are connected and recognized by the system before proceeding with measurements."
   ]
  },
  {
   "cell_type": "code",
   "execution_count": null,
   "id": "0a8c8b45",
   "metadata": {},
   "outputs": [],
   "source": [
    "from utils.visa_utils import list_visa_resources\n",
    "\n",
    "# List all VISA resources\n",
    "list_visa_resources()"
   ]
  },
  {
   "cell_type": "code",
   "execution_count": null,
   "id": "d09159eb",
   "metadata": {},
   "outputs": [],
   "source": [
    "config = load_config('configs/experiment_config.yaml')\n",
    "laser_cfg = config[\"Agilent8163Multimeter\"]                         # Extract laser-specific configuration\n",
    "\n",
    "combined_name = f\"{config['DUT']['type']}_{config['DUT']['name']}\"  # Combined name for saving data"
   ]
  },
  {
   "cell_type": "code",
   "execution_count": null,
   "id": "3c195282",
   "metadata": {},
   "outputs": [],
   "source": [
    "rm = visa.ResourceManager()\n",
    "\n",
    "# Generate the laser and keithley objects using the configuration\n",
    "laser_obj = Agilent8163Multimeter(\n",
    "    address=laser_cfg['address'],\n",
    "    laser_slot=laser_cfg['laser_slot'],\n",
    "    power_slot= laser_cfg['power_slot'],\n",
    "    power_channel=laser_cfg['power_channel'],\n",
    "    resource_manager=rm\n",
    ")"
   ]
  },
  {
   "cell_type": "markdown",
   "id": "c1df6f14",
   "metadata": {},
   "source": [
    "## Laser Sweep Measurement and Analysis\n",
    "This section performs the automated laser sweep, identifies the peak response, and visualizes the measurement results for analysis."
   ]
  },
  {
   "cell_type": "code",
   "execution_count": null,
   "id": "4a071def",
   "metadata": {},
   "outputs": [],
   "source": [
    "laser_sweep_params = {\n",
    "  \"laser\": laser_obj,\n",
    "  \"start_wl\": laser_cfg[\"start_wavelength\"],\n",
    "  \"stop_wl\": laser_cfg[\"stop_wavelength\"],\n",
    "  \"step\": laser_cfg[\"step\"],\n",
    "  \"delay\": laser_cfg[\"delay\"],\n",
    "  \"logger\": None,\n",
    "  \"live_plot\": True,\n",
    "}\n",
    "\n",
    "headers_laser_sweep, results_laser_sweep = perform_laser_sweep(**laser_sweep_params)\n",
    "\n",
    "# Get the maximum power and its corresponding wavelength\n",
    "wavelengths, powers = np.array(results_laser_sweep).T\n",
    "max_idx = powers.argmax()\n",
    "mzi_peak = powers[max_idx]\n",
    "mzi_peak_wavelength = wavelengths[max_idx]\n",
    "print(f\"Peak power: {mzi_peak} at wavelength: {mzi_peak_wavelength} nm\")\n",
    "# Plot the laser sweep results\n",
    "plot_path = plot_measurements(headers=headers_laser_sweep, \n",
    "           results= results_laser_sweep, \n",
    "           figure_name=combined_name + \"_Laser_Sweep\", \n",
    "           show=True,\n",
    "           )"
   ]
  },
  {
   "cell_type": "markdown",
   "id": "be49ae7b",
   "metadata": {},
   "source": [
    "## Plotting and Saving Results\n",
    "This section visualizes the laser sweep data and saves the raw measurement results to a CSV file for documentation and further analysis."
   ]
  },
  {
   "cell_type": "code",
   "execution_count": null,
   "id": "39e1971f",
   "metadata": {},
   "outputs": [],
   "source": [
    "# Plot the laser sweep results\n",
    "plot_path = plot_measurements(headers=headers_laser_sweep, \n",
    "           results= results_laser_sweep, \n",
    "           figure_name=combined_name + \"_Laser_Sweep\", \n",
    "           show=True,\n",
    "           )\n",
    "\n",
    "# Save the laser sweep results to a CSV file\n",
    "data_path = save_raw_measurements(headers=headers_laser_sweep,\n",
    "                      data=results_laser_sweep,\n",
    "                      filename=combined_name + \"_Laser_Sweep\",\n",
    ")"
   ]
  }
 ],
 "metadata": {
  "kernelspec": {
   "display_name": "Python 3",
   "language": "python",
   "name": "python3"
  },
  "language_info": {
   "codemirror_mode": {
    "name": "ipython",
    "version": 3
   },
   "file_extension": ".py",
   "mimetype": "text/x-python",
   "name": "python",
   "nbconvert_exporter": "python",
   "pygments_lexer": "ipython3",
   "version": "3.13.7"
  }
 },
 "nbformat": 4,
 "nbformat_minor": 5
}
