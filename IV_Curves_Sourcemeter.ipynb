{
 "cells": [
  {
   "cell_type": "markdown",
   "id": "68cd0de2",
   "metadata": {},
   "source": [
    "# IV Curves Analysis\n",
    "\n",
    "This notebook demonstrates how to load, process, and analyze IV (Current–Voltage) curves.  \n",
    "It is intended as a simple instructional guide for working with measurement data in Python.  \n",
    "\n",
    "---\n"
   ]
  },
  {
   "cell_type": "markdown",
   "id": "6ab2aed1",
   "metadata": {},
   "source": [
    "## Step 1 – Import Libraries\n",
    "We start by importing the Python libraries we need for data analysis and plotting."
   ]
  },
  {
   "cell_type": "code",
   "execution_count": null,
   "id": "01ee7cda",
   "metadata": {},
   "outputs": [],
   "source": [
    "import pyvisa as visa\n",
    "from instruments.agilent8163 import Agilent8163Multimeter\n",
    "from instruments.keithley2400 import Keithley2400SourceMeter\n",
    "from controllers.laser_sweep import *\n",
    "from controllers.sourcemeter_sweep import measure_iv_curve, measure_liv_curve\n",
    "from utils.load_config import load_config\n",
    "from utils.plotter import plot_measurements\n",
    "from utils.data_saver import save_raw_measurements"
   ]
  },
  {
   "cell_type": "code",
   "execution_count": null,
   "id": "9b86f1a2",
   "metadata": {},
   "outputs": [],
   "source": [
    "from utils.visa_utils import list_visa_resources\n",
    "\n",
    "# List all VISA resources\n",
    "list_visa_resources()"
   ]
  },
  {
   "cell_type": "markdown",
   "id": "96c6a2d5",
   "metadata": {},
   "source": [
    "## Step 2 – Load Instrument Configuration\n",
    "Here we load the configuration files for the instrument. This config drives how the sweep will run and enforces safety limits."
   ]
  },
  {
   "cell_type": "code",
   "execution_count": null,
   "id": "9bfa8a80",
   "metadata": {},
   "outputs": [],
   "source": [
    "# They are connected on the same GPIB bus, so we need to pass the same resource manager to both instruments\n",
    "# If you are using multiple GPIB buses, then you need to create separate resource managers for each bus\n",
    "rm = visa.ResourceManager()\n",
    "\n",
    "# Generate the laser and keithley objects using the configuration\n",
    "config = load_config('configs/experiment_config.yaml')\n",
    "keithley_cfg = config[\"Keithley2400\"]                               # Extract Keithley instrument configuration\n",
    "\n",
    "keithley_obj = Keithley2400SourceMeter(address=keithley_cfg['address'], resource_manager=rm)"
   ]
  },
  {
   "cell_type": "code",
   "execution_count": null,
   "id": "1272840a",
   "metadata": {},
   "outputs": [],
   "source": [
    "config = load_config('configs/experiment_config.yaml')\n",
    "\n",
    "keithley_cfg = config[\"Keithley2400\"]                               # Extract Keithley instrument configuration\n",
    "combined_name = f\"{config['DUT']['type']}_{config['DUT']['name']}\"  # Combined name for saving data"
   ]
  },
  {
   "cell_type": "markdown",
   "id": "a2c1aa9e",
   "metadata": {},
   "source": [
    "## Step 3 – Define Sweep Parameters and Execute Measurement\n",
    "With the instrument configured, we now set up the sweep parameters and run the measurement."
   ]
  },
  {
   "cell_type": "code",
   "execution_count": null,
   "id": "61469b65",
   "metadata": {},
   "outputs": [],
   "source": [
    "iv_sweep_params = {\n",
    "    \"sourcemeter\": keithley_obj,\n",
    "    \"start_v\": keithley_cfg[\"start_voltage\"],\n",
    "    \"stop_v\": keithley_cfg[\"stop_voltage\"],\n",
    "    \"step\": keithley_cfg[\"step_voltage\"],\n",
    "    \"measure_current_range\": keithley_cfg[\"measure_current_range\"],\n",
    "    \"current_limit\": keithley_cfg[\"compliance_current\"],\n",
    "    \"wire_mode\": keithley_cfg[\"wire_mode\"],\n",
    "    \"delay\": keithley_cfg[\"delay\"],\n",
    "    \"logger\": None,\n",
    "}\n",
    "\n",
    "headers_iv_sweep, results_iv_sweep = measure_iv_curve(**iv_sweep_params)"
   ]
  },
  {
   "cell_type": "markdown",
   "id": "60474ef1",
   "metadata": {},
   "source": [
    "## Step 4 – Plot Measured IV Curves\n",
    "Now that the sweep has been executed and raw data collected, we can visualize the IV characteristics."
   ]
  },
  {
   "cell_type": "code",
   "execution_count": null,
   "id": "956ffc13",
   "metadata": {},
   "outputs": [],
   "source": [
    "# Plot the IV sweep results\n",
    "plot_path = plot_measurements(headers=headers_iv_sweep, \n",
    "           results= results_iv_sweep, \n",
    "           figure_name=combined_name + \"_Sourcemeter_Sweep_IV\", \n",
    "           show=True,\n",
    "           )"
   ]
  },
  {
   "cell_type": "code",
   "execution_count": null,
   "id": "b38943be",
   "metadata": {},
   "outputs": [],
   "source": [
    "data_path = save_raw_measurements(headers=headers_iv_sweep,\n",
    "                      data=results_iv_sweep,\n",
    "                      filename=combined_name + \"_Sourcemeter_Sweep_IV\",\n",
    ")"
   ]
  },
  {
   "cell_type": "markdown",
   "id": "48aa6c9a",
   "metadata": {},
   "source": [
    "---\n",
    "# Conclusion\n",
    "\n",
    "In this notebook, we walked through the complete workflow of IV curve measurement:\n",
    "- Loaded instrument configuration to set up the measurement environment safely.\n",
    "- Defined sweep parameters and executed the measurement to capture IV data.\n",
    "- Plotted the measured IV curves for a quick visual inspection.\n",
    "- Prepared the data for further analysis, such as resistance extraction or diode characterization."
   ]
  }
 ],
 "metadata": {
  "kernelspec": {
   "display_name": "photonics-lab",
   "language": "python",
   "name": "python3"
  },
  "language_info": {
   "codemirror_mode": {
    "name": "ipython",
    "version": 3
   },
   "file_extension": ".py",
   "mimetype": "text/x-python",
   "name": "python",
   "nbconvert_exporter": "python",
   "pygments_lexer": "ipython3",
   "version": "3.11.11"
  }
 },
 "nbformat": 4,
 "nbformat_minor": 5
}
