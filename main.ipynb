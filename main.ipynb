{
 "cells": [
  {
   "cell_type": "markdown",
   "id": "f1f3ee54",
   "metadata": {},
   "source": [
    "# Automated Photonics Test Setup - MZI Phase Shifter\n",
    "\n",
    "This Jupyter notebook is part of a modular test framework for photonics experiments. It orchestrates instrument initialization, laser sweeps, and data acquisition, using a structured configuration system."
   ]
  },
  {
   "cell_type": "markdown",
   "id": "f728c6ab",
   "metadata": {},
   "source": [
    "## 1. Overview\n",
    "\n",
    "This notebook supports an experimental photonics setup by integrating device configuration and data acquisition. Instrument control and measurement parameters are managed externally via a YAML configuration file.\n",
    "\n",
    "The goal is to automate routine measurements using defined sweep protocols for laser and source meter instruments, ensuring reproducibility and traceability of test results."
   ]
  },
  {
   "cell_type": "markdown",
   "id": "45166c9a",
   "metadata": {},
   "source": [
    "## 2. Dependencies\n",
    "Modules imported from the project:\n",
    "- Instrument drivers for Agilent8163 and Keithley2400\n",
    "- Sweep control functions for laser and source meter\n",
    "- Utilities for config parsing, plotting, and data saving\n",
    "\n",
    "These modules abstract SCPI communication and enable experiment control through high-level Python functions."
   ]
  },
  {
   "cell_type": "code",
   "execution_count": null,
   "id": "efa2102e",
   "metadata": {},
   "outputs": [],
   "source": [
    "import pyvisa as visa\n",
    "from instruments.agilent8163 import Agilent8163Multimeter\n",
    "from instruments.keithley2400 import Keithley2400SourceMeter\n",
    "from controllers.laser_sweep import *\n",
    "from controllers.sourcemeter_sweep import measure_iv_curve, measure_liv_curve\n",
    "from utils.load_config import load_config\n",
    "from utils.plotter import plot_measurements\n",
    "from utils.data_saver import save_raw_measurements"
   ]
  },
  {
   "cell_type": "markdown",
   "id": "4f86611c",
   "metadata": {},
   "source": [
    "## 3. Configuration Parameters\n",
    "The experiment configuration is loaded from a YAML file to enable flexible and clean parameter management:"
   ]
  },
  {
   "cell_type": "code",
   "execution_count": null,
   "id": "7f6c270e",
   "metadata": {},
   "outputs": [],
   "source": [
    "config = load_config('configs/experiment_config.yaml')\n"
   ]
  },
  {
   "cell_type": "markdown",
   "id": "edb90e36",
   "metadata": {},
   "source": [
    "This file defines:\n",
    "- Agilent laser/meter parameters\n",
    "- Keithley sourcemeter settings\n",
    "- Sweep range and step size"
   ]
  },
  {
   "cell_type": "code",
   "execution_count": null,
   "id": "d195e98c",
   "metadata": {},
   "outputs": [],
   "source": [
    "laser_cfg = config[\"Agilent8163Multimeter\"]                         # Extract laser-specific configuration\n",
    "keithley_cfg = config[\"Keithley2400\"]                               # Extract Keithley instrument configuration\n",
    "combined_name = f\"{config['DUT']['type']}_{config['DUT']['name']}\"  # Combined name for saving data"
   ]
  },
  {
   "cell_type": "markdown",
   "id": "bc07db55",
   "metadata": {},
   "source": [
    "This allows quick changes to experimental parameters without modifying the code."
   ]
  },
  {
   "cell_type": "markdown",
   "id": "cd2e89d1",
   "metadata": {},
   "source": [
    "## 4. Instrument Initialization\n",
    "Initialize the instruments using configuration values:"
   ]
  },
  {
   "cell_type": "code",
   "execution_count": null,
   "id": "12dd5f10",
   "metadata": {},
   "outputs": [],
   "source": [
    "# They are connected on the same GPIB bus, so we need to pass the same resource manager to both instruments\n",
    "# If you are using multiple GPIB buses, then you need to create separate resource managers for each bus\n",
    "rm = visa.ResourceManager()\n",
    "\n",
    "# Generate the laser and keithley objects using the configuration\n",
    "laser_obj = Agilent8163Multimeter(\n",
    "    address=laser_cfg['address'],\n",
    "    laser_slot=laser_cfg['laser_slot'],\n",
    "    power_slot= laser_cfg['power_slot'],\n",
    "    power_channel=laser_cfg['power_channel'],\n",
    "    resource_manager=rm\n",
    ")\n",
    "\n",
    "keithley_obj = Keithley2400SourceMeter(address=keithley_cfg['address'], resource_manager=rm)"
   ]
  },
  {
   "cell_type": "markdown",
   "id": "b9066f57",
   "metadata": {},
   "source": [
    "This instantiates and configures the instruments based on the external YAML file. Each object will handle its own SCPI communication logic internally."
   ]
  },
  {
   "cell_type": "markdown",
   "id": "bdb28019",
   "metadata": {},
   "source": [
    "## 5. Measurement Routines\n",
    "We support the following core experiments:\n",
    "- Laser Sweep: Varying laser wavelength and recording power output.\n",
    "- IV Sweep: Varying voltage or current and measuring resulting current or voltage.\n",
    "- LIV Sweep: Combines laser and IV control for optoelectronic device characterization.\n",
    "\n",
    "Each routine loads settings from the config and logs raw data to disk."
   ]
  },
  {
   "cell_type": "code",
   "execution_count": null,
   "id": "f0ea842d",
   "metadata": {},
   "outputs": [],
   "source": [
    "laser_sweep_params = {\n",
    "  \"laser\": laser_obj,\n",
    "  \"start_wl\": laser_cfg[\"start_wavelength\"],\n",
    "  \"stop_wl\": laser_cfg[\"stop_wavelength\"],\n",
    "  \"step\": laser_cfg[\"step\"],\n",
    "  \"delay\": laser_cfg[\"delay\"],\n",
    "  \"logger\": None,\n",
    "}\n",
    "\n",
    "headers_laser_sweep, results_laser_sweep = perform_laser_sweep(**laser_sweep_params)\n",
    "\n",
    "# Get the maximum power and its corresponding wavelength\n",
    "wavelengths, powers = np.array(results_laser_sweep).T\n",
    "max_idx = powers.argmax()\n",
    "mzi_peak = powers[max_idx]\n",
    "mzi_peak_wavelength = wavelengths[max_idx]\n",
    "print(f\"Peak power: {mzi_peak} at wavelength: {mzi_peak_wavelength} nm\")\n"
   ]
  },
  {
   "cell_type": "code",
   "execution_count": null,
   "id": "ae2fa88c",
   "metadata": {},
   "outputs": [],
   "source": [
    "resistor_measurement_params = {\n",
    "    \"resistance_range\": keithley_cfg[\"resistance_range\"],\n",
    "    \"mode\": \"MAN\",\n",
    "    \"offset_comp\": \"OFF\",\n",
    "    \"voltage_prot\": keithley_cfg[\"compliance_voltage\"],\n",
    "    \"current_prot\": keithley_cfg[\"compliance_current\"],\n",
    "    \"source_func\": \"CURR\",\n",
    "    \"source_level\": 0.001,  # The units depend on the source_functions\n",
    "    \"wire_mode\": keithley_cfg[\"wire_mode\"],\n",
    "}\n",
    "\n",
    "resistance = keithley_obj.read_resistance_configured(**resistor_measurement_params)\n",
    "print(f\"Measured resistance: {resistance} Ohm\")\n"
   ]
  },
  {
   "cell_type": "code",
   "execution_count": null,
   "id": "fe940d2a",
   "metadata": {},
   "outputs": [],
   "source": [
    "iv_sweep_params = {\n",
    "    \"sourcemeter\": keithley_obj,\n",
    "    \"start_v\": keithley_cfg[\"start_voltage\"],\n",
    "    \"stop_v\": keithley_cfg[\"stop_voltage\"],\n",
    "    \"step\": keithley_cfg[\"step_voltage\"],\n",
    "    \"measure_current_range\": keithley_cfg[\"measure_current_range\"],\n",
    "    \"current_limit\": keithley_cfg[\"compliance_current\"],\n",
    "    \"wire_mode\": keithley_cfg[\"wire_mode\"],\n",
    "    \"delay\": keithley_cfg[\"delay\"],\n",
    "    \"logger\": None,\n",
    "}\n",
    "\n",
    "headers_iv_sweep, results_iv_sweep = measure_iv_curve(**iv_sweep_params)"
   ]
  },
  {
   "cell_type": "code",
   "execution_count": null,
   "id": "ab4c7900",
   "metadata": {},
   "outputs": [],
   "source": [
    "liv_params = {\n",
    "    \"sourcemeter\": keithley_obj,\n",
    "    \"powermeter\": laser_obj,\n",
    "    \"laser\": laser_obj,\n",
    "    \"start_v\": keithley_cfg[\"start_voltage\"],\n",
    "    \"stop_v\": keithley_cfg[\"stop_voltage\"],\n",
    "    \"step\": keithley_cfg[\"step_voltage\"],\n",
    "    \"measure_current_range\": keithley_cfg[\"measure_current_range\"],\n",
    "    \"current_limit\": keithley_cfg[\"compliance_current\"],\n",
    "    \"wire_mode\": keithley_cfg[\"wire_mode\"],\n",
    "    \"center_wavelength\": mzi_peak_wavelength,\n",
    "    \"sourcemeter_delay\": keithley_cfg[\"delay\"],\n",
    "    \"powermeter_delay\": laser_cfg[\"delay\"],\n",
    "    \"logger\": None,\n",
    "}\n",
    "\n",
    "headers_liv_sweep, results_liv_sweep = measure_liv_curve(**liv_params)"
   ]
  },
  {
   "cell_type": "markdown",
   "id": "9a4894a9",
   "metadata": {},
   "source": [
    "## 6. Results Visualization\n",
    "\n",
    "Measurement results are visualized using custom plotters. Example outputs include:\n",
    "- Power vs. Wavelength\n",
    "- IV curve (Current vs. Voltage)\n",
    "- LIV characteristics (Light Output vs. Current)\n",
    "- All plots are saved in the plots/ directory and labeled with relevant parameters."
   ]
  },
  {
   "cell_type": "code",
   "execution_count": null,
   "id": "4801df7c",
   "metadata": {},
   "outputs": [],
   "source": [
    "# Plot the laser sweep results\n",
    "plot_path = plot_measurements(headers=headers_laser_sweep, \n",
    "           results= results_laser_sweep, \n",
    "           figure_name=combined_name + \"_Laser_Sweep\", \n",
    "           show=True,\n",
    "           )"
   ]
  },
  {
   "cell_type": "code",
   "execution_count": null,
   "id": "e06a8ab7",
   "metadata": {},
   "outputs": [],
   "source": [
    "# Plot the IV sweep results\n",
    "plot_path = plot_measurements(headers=headers_iv_sweep, \n",
    "           results= results_iv_sweep, \n",
    "           figure_name=combined_name + \"_Sourcemeter_Sweep_IV\", \n",
    "           show=True,\n",
    "           )"
   ]
  },
  {
   "cell_type": "code",
   "execution_count": null,
   "id": "b09c8cbf",
   "metadata": {},
   "outputs": [],
   "source": [
    "# Plots the LIV Resukts\n",
    "# Trim headers (drop voltage)\n",
    "trimmed_headers = (headers_liv_sweep[0],headers_liv_sweep[2])  # -> (\"Voltage (V)\", \"Optical Power (dBm)\")\n",
    "# Trim data\n",
    "trimmed_results = [(v, l) for v, _, l in results_liv_sweep]  # -> List[Tuple[float, float]]\n",
    "\n",
    "plot_path = plot_measurements(\n",
    "    headers=trimmed_headers,\n",
    "    results=[res[:2] for res in trimmed_results],\n",
    "    figure_name=combined_name + \"_Sourcemeter_Sweep_LIV_results\", \n",
    "    show=True\n",
    ")"
   ]
  },
  {
   "cell_type": "code",
   "execution_count": null,
   "id": "51e525fe",
   "metadata": {},
   "outputs": [],
   "source": [
    "# Calculate the dips from the results. Use scipy find_peaks\n",
    "from scipy.signal import find_peaks\n",
    "dips = -np.array([power for voltage, power in trimmed_results])\n",
    "peaks, properties = find_peaks(dips, prominence=1)\n",
    "print(f\"Dips found at indices: {peaks}\")\n",
    "for peak in peaks:\n",
    "    voltage, optical_power = trimmed_results[peak]\n",
    "    print(f\"At index {peak}: Voltage = {voltage:.2f} V, Optical Power = {optical_power} dBm\")\n",
    "    \n",
    "# Power Consumption\n",
    "print(f\"Total Resistance: {resistance} Ohms\")\n",
    "voltage,_ = trimmed_results[peaks[0]]  # Get the first peak\n",
    "power_consumption = (voltage**2 / resistance[0])*1e3 # Convert to mW\n",
    "print(f\"Power Consumption at first dip: {power_consumption:.4f} mW\")\n"
   ]
  },
  {
   "cell_type": "markdown",
   "id": "c59d520d",
   "metadata": {},
   "source": [
    "## 7. Logging and Data Management\n",
    "Raw measurement data is saved in the data/raw/ folder in CSV format. The utils/logger.py utility ensures each experiment run is timestamped for traceability."
   ]
  },
  {
   "cell_type": "code",
   "execution_count": null,
   "id": "ba736f91",
   "metadata": {},
   "outputs": [],
   "source": [
    "# Save the laser sweep results to a CSV file\n",
    "data_path = save_raw_measurements(headers=headers_laser_sweep,\n",
    "                      data=results_laser_sweep,\n",
    "                      filename=combined_name + \"_Laser_Sweep\",\n",
    ")"
   ]
  },
  {
   "cell_type": "code",
   "execution_count": null,
   "id": "bee25c3e",
   "metadata": {},
   "outputs": [],
   "source": [
    "# Save the laser sweep results to a CSV file\n",
    "data_path = save_raw_measurements(headers=headers_iv_sweep,\n",
    "                      data=results_iv_sweep,\n",
    "                      filename=combined_name + \"_Sourcemeter_Sweep_IV\",\n",
    ")"
   ]
  },
  {
   "cell_type": "code",
   "execution_count": null,
   "id": "a6511de1",
   "metadata": {},
   "outputs": [],
   "source": [
    "# Save the laser sweep results to a CSV file\n",
    "data_path = save_raw_measurements(headers=headers_liv_sweep,\n",
    "                      data=results_liv_sweep,\n",
    "                      filename=combined_name + \"_Sourcemeter_Sweep_LIV_results\",\n",
    ")"
   ]
  },
  {
   "cell_type": "markdown",
   "id": "8fc1dc7d",
   "metadata": {},
   "source": [
    "## 8. Instrument Shutdown\n",
    "\n",
    "To properly close the VISA sessions and safely disconnect from the instruments:\n",
    "\n"
   ]
  },
  {
   "cell_type": "code",
   "execution_count": null,
   "id": "268154b2",
   "metadata": {},
   "outputs": [],
   "source": [
    "keithley_obj.close()\n",
    "laser_obj.close()"
   ]
  },
  {
   "cell_type": "markdown",
   "id": "14cb3aa8",
   "metadata": {},
   "source": [
    "## 9. Final Notes\n",
    "This modular approach makes it easy to:\n",
    "\n",
    "- Extend the setup with new instruments\n",
    "- Adapt to different photonic device tests\n",
    "- Maintain consistency across multiple sessions and users\n",
    "\n",
    "Always ensure your configuration is correct before running full sweeps to prevent instrument misuse."
   ]
  }
 ],
 "metadata": {
  "kernelspec": {
   "display_name": "photonics-lab",
   "language": "python",
   "name": "python3"
  },
  "language_info": {
   "codemirror_mode": {
    "name": "ipython",
    "version": 3
   },
   "file_extension": ".py",
   "mimetype": "text/x-python",
   "name": "python",
   "nbconvert_exporter": "python",
   "pygments_lexer": "ipython3",
   "version": "3.11.11"
  }
 },
 "nbformat": 4,
 "nbformat_minor": 5
}
